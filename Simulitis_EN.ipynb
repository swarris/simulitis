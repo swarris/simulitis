{
  "nbformat": 4,
  "nbformat_minor": 0,
  "metadata": {
    "colab": {
      "name": "Simulitis EN.ipynb",
      "provenance": [],
      "collapsed_sections": [],
      "authorship_tag": "ABX9TyOKy5f1Ht012BA9qu4g1aHX",
      "include_colab_link": true
    },
    "kernelspec": {
      "name": "python3",
      "display_name": "Python 3"
    }
  },
  "cells": [
    {
      "cell_type": "markdown",
      "metadata": {
        "id": "view-in-github",
        "colab_type": "text"
      },
      "source": [
        "<a href=\"https://colab.research.google.com/github/swarris/simulitis/blob/master/Simulitis_EN.ipynb\" target=\"_parent\"><img src=\"https://colab.research.google.com/assets/colab-badge.svg\" alt=\"Open In Colab\"/></a>"
      ]
    },
    {
      "cell_type": "markdown",
      "metadata": {
        "id": "K4O6On5HmjrK",
        "colab_type": "text"
      },
      "source": [
        "# Spread of Simulitis\n",
        "In this project we will simulate the spread of an imaginairy virus. \n",
        "This virus, *simulitis* can be transmitted for person to person and can be fatal. The transmission rate and fatality rate can be changed per simulation. These simulations are written in the programming language Python. These simulations are **illustrative** are intented to **teach programming in Python**. The used models are **not scientific**! \n",
        "\n",
        "Idea based on the [simulation of the Washington Post](https://www.washingtonpost.com/graphics/2020/world/corona-simulator/)\n",
        "\n",
        "## Teaching goals\n",
        "The simulations are created in Python and make use of the iPython Notebook technology. These notebooks run in a webbrowser and are very useful for experimenting with Python. You can step through your code, add new code or remove parts and test the results. There are many examples on how to use notebooks and Python, for example [Learn Python 3 with Jupyter Notebook ](https://gist.github.com/kenjyco/69eeb503125035f21a9d).\n",
        "The simulations are writting using **object oriented programming**, a way of structuring your code. This notebook also allows you to experiment with **making animations and graphs**. \n",
        "\n",
        "## Exercises\n",
        "This notebook contains several exercises. It is possible to run the simulations without doing the programming exercises! I would recommend going through all the simulations before starting at the programming exercises.\n",
        "\n",
        "## Let's create a world\n",
        "Out worlds is rectangular and *X* by *Y* wide. The infection distance give the minimal distance a person much have to an infected person to become infected himself. Infection is absolute: when you get within this range you are infected."
      ]
    },
    {
      "cell_type": "code",
      "metadata": {
        "id": "ojCBp5eVmmqG",
        "colab_type": "code",
        "colab": {}
      },
      "source": [
        "class World:\n",
        "\n",
        "  def __init__(self, X, Y, numberOfPersons, infectionDistance):\n",
        "    \"\"\" \n",
        "    constuctor with the size of the world, the number of people in it and\n",
        "    the infection distance in which people get infected.\n",
        "    \"\"\"\n",
        "    self.X = X\n",
        "    self.Y = Y\n",
        "    self.numberOfPersons = numberOfPersons\n",
        "    self.infectionDistance = infectionDistance\n",
        "    # we start with an empty population:\n",
        "    self.population = []\n",
        "\n",
        "  def create(self):\n",
        "    \"\"\" \n",
        "    This method create a population with #numberOfPersons and one sick person.\n",
        "    \"\"\"\n",
        "    self.population = []\n",
        "    for i in range(self.numberOfPersons):\n",
        "      self.population.append(Person(100*random.random(), self, self.X * random.random(),self.Y*random.random()))\n",
        "    # make one sick\n",
        "    self.population[0].infected = True\n"
      ],
      "execution_count": 0,
      "outputs": []
    },
    {
      "cell_type": "markdown",
      "metadata": {
        "id": "WXcm8S3Zz9lQ",
        "colab_type": "text"
      },
      "source": [
        "### Exercises\n",
        "\n",
        "\n",
        "1.   What is the maximum age a person can get?\n",
        "2.   Where are the persons placed? Do they start in the same spot or not?\n",
        "3.   **Programming**: make a random number of people sick. Use `random.random()` \n",
        "4.   **Programming**: divide all persons across three different circles. \n",
        "\n",
        "\n"
      ]
    },
    {
      "cell_type": "markdown",
      "metadata": {
        "id": "GBduh2xGm0GW",
        "colab_type": "text"
      },
      "source": [
        "## Now let's define a Person \n",
        "A person has an age and a startLocation in the world. A person can also walk about."
      ]
    },
    {
      "cell_type": "code",
      "metadata": {
        "id": "aGHag4UFmvFd",
        "colab_type": "code",
        "colab": {}
      },
      "source": [
        "import math\n",
        "import random\n",
        "\n",
        "class Person:\n",
        "  def __init__(self, age, world, startX, startY):  \n",
        "    \"\"\"\n",
        "    A Person has an age, a world to live in and \n",
        "    a start position in this world. He/she moves in a random direction. \n",
        "    A Person is not infected when it is created.\n",
        "    \"\"\"\n",
        "    self.age = age\n",
        "    self.world = world\n",
        "    self.X = startX\n",
        "    self.Y = startY\n",
        "    # pick a random walkingDirection:\n",
        "    self.walkingDirection = random.random()*math.pi*2.0\n",
        "    # A person is created in good health:\n",
        "    self.infected = False\n",
        "\n",
        "    \n",
        "  def takeStep(self):\n",
        "    \"\"\"\n",
        "    This method makes sure this person takes a step in the choosen direction.\n",
        "    In some cases it changes direction.\n",
        "    \"\"\"\n",
        "\n",
        "    # Change of direction?\n",
        "    if random.random() > 0.95:\n",
        "      self.walkingDirection = random.random()*math.pi*2.0\n",
        "    # Take a step\n",
        "    self.X = self.X + math.cos(self.walkingDirection)\n",
        "    self.Y = self.Y + math.sin(self.walkingDirection)\n",
        "    # make sure the person does not walk off the world:\n",
        "    if self.X > self.world.X:\n",
        "      self.X = 0\n",
        "    elif self.X < 0:\n",
        "      self.X = self.world.X\n",
        "    if self.Y > self.world.Y:\n",
        "      self.Y = 0\n",
        "    elif self.Y < 0:\n",
        "      self.Y = self.world.Y\n",
        "\n",
        "        \n",
        "  def currentLocation(self):\n",
        "    \"\"\" Where am I now? \"\"\"\n",
        "    return [self.X, self.Y]\n",
        "\n",
        "  def infect(self):\n",
        "    \"\"\" \n",
        "    Check all people in the world: if I'm close enough and I'm infected\n",
        "    make that person sick. Returns the number of infected persons.\n",
        "    \"\"\"\n",
        "    infectedPersons = 0\n",
        "    if self.infected:\n",
        "      for p in self.world.population:\n",
        "        # if the person is within the infection distance and not yet infected, infect this person:\n",
        "        if not p.infected and math.sqrt((p.X-self.X)**2 + (p.Y-self.Y)**2) <= self.world.infectionDistance :\n",
        "          p.infected = True\n",
        "          infectedPersons += 1\n",
        "    return infectedPersons\n"
      ],
      "execution_count": 0,
      "outputs": []
    },
    {
      "cell_type": "markdown",
      "metadata": {
        "id": "6ws2ymtM2Oom",
        "colab_type": "text"
      },
      "source": [
        "### Exercises\n",
        "\n",
        "1.  Create a drawing on paper of a world with several people. Indicate with arrows where they will go once they tend to leave the world. \n",
        "2.   **Programming**: Imagine the world is surrounded by a wall. Let a person bounce off the wall in stead of making him/her appear on the other side.\n",
        "3.   **Programming**: add a 50/50 chance of getting infected once a person gets with infectionDistance.\n",
        "\n"
      ]
    },
    {
      "cell_type": "markdown",
      "metadata": {
        "id": "Jbtm04Mv5Wt3",
        "colab_type": "text"
      },
      "source": [
        "## The people on the world\n",
        "Now we can create a world and a person we can combine the two. With the following variables you can indicate the size of the world and how many person are in the world. Tip: the bigger the *world* and/or the more people are in it, the longer it will take for the simulation to end."
      ]
    },
    {
      "cell_type": "code",
      "metadata": {
        "id": "GRWn7gC46FSW",
        "colab_type": "code",
        "colab": {}
      },
      "source": [
        "worldSize = 100\n",
        "numberOfPersons = 100\n",
        "infectionDistance = 3.0\n",
        "timeStepsInTheAnimation = 500"
      ],
      "execution_count": 0,
      "outputs": []
    },
    {
      "cell_type": "markdown",
      "metadata": {
        "id": "2nO9MEHC3old",
        "colab_type": "text"
      },
      "source": [
        "### Exercise\n",
        "\n",
        "1.   Play with the values for `worldSize`, `numberOfPersons` and `infectionDistance`. Check for instance how the affect running time of the simulation below. \n",
        "\n"
      ]
    },
    {
      "cell_type": "markdown",
      "metadata": {
        "id": "ltXM1Jfe6NxV",
        "colab_type": "text"
      },
      "source": [
        "Now we can create a world with one infected person:"
      ]
    },
    {
      "cell_type": "code",
      "metadata": {
        "id": "yOfo31G9m3Q3",
        "colab_type": "code",
        "colab": {}
      },
      "source": [
        "world = World(worldSize,worldSize, numberOfPersons, infectionDistance)\n"
      ],
      "execution_count": 0,
      "outputs": []
    },
    {
      "cell_type": "markdown",
      "metadata": {
        "id": "td4dM1Mz4h5G",
        "colab_type": "text"
      },
      "source": [
        "### Exercises\n",
        "\n",
        "1.   The current world is square. How can you tell?\n",
        "2.   **Programming**: add another variable to be able to create a rectangular world.\n",
        "\n"
      ]
    },
    {
      "cell_type": "markdown",
      "metadata": {
        "id": "yhGxmuHz7K02",
        "colab_type": "text"
      },
      "source": [
        "The next piece of code is necessary to create the animation. The person walk through the world and start infecting others."
      ]
    },
    {
      "cell_type": "code",
      "metadata": {
        "id": "o-z2tM1am7D5",
        "colab_type": "code",
        "colab": {}
      },
      "source": [
        "%%capture\n",
        "# First we need some additional libraries:\n",
        "import numpy as np\n",
        "import matplotlib.pyplot as plt\n",
        "from matplotlib import animation, rc\n",
        "from IPython.display import HTML\n",
        "\n",
        "class Animation:\n",
        "  def __init__(self, world, timeStepsInTheAnimation):\n",
        "    \"\"\"\n",
        "    Definitie van het plot frame.\n",
        "    \"\"\"\n",
        "    self.world = world\n",
        "    self.timeStepsInTheAnimation = timeStepsInTheAnimation\n",
        "    # Define the figure:\n",
        "    self.fig, (self.ax, self.ax2) = plt.subplots(2,1,figsize=(8,12))\n",
        "    # Set limits:\n",
        "    self.ax.set_xlim(( 0, world.X))\n",
        "    self.ax.set_ylim((0, world.Y))\n",
        "    self.ax2.set_xlim(( 0, timeStepsInTheAnimation))\n",
        "    self.ax2.set_ylim((0, 100))\n",
        "\n",
        "    # We keep track of the number of healthy and sick persons:\n",
        "    self.healthy, = self.ax.plot([], [], \"bo\", lw=2)\n",
        "    self.sick, = self.ax.plot([], [], \"ro\", lw=2)\n",
        "    self.totalSick, = self.ax2.plot([], [], \"ro\", lw=2)\n",
        "    # The legend is positioned between the two figures\n",
        "    self.legend = self.ax2.legend((self.healthy, self.sick), \n",
        "                                  (\"Healthy\", \"Sick\"), \n",
        "                                   loc=\"lower left\",bbox_to_anchor= (0.0, 1.01), borderaxespad=0., ncol=2)\n",
        "    # We also keep track of the number of sick person per time point:\n",
        "    self.totalSickStatus = []\n",
        "\n",
        "  def init(self):\n",
        "    \"\"\" Make data empty for the figure \"\"\"\n",
        "    self.healthy.set_data([], [])\n",
        "    self.sick.set_data([], [])\n",
        "    self.totalSick.set_data([],[])\n",
        "    return (self.healthy,self.sick, self.totalSick)\n",
        "\n",
        "  def animate(self, i):\n",
        "    \"\"\" \n",
        "    Creates the animation and lets people walk around and infect others.\n",
        "    \"\"\"\n",
        "    healthyX = []\n",
        "    healthyY = []\n",
        "    sickX = []\n",
        "    sickY = []\n",
        "    # We start with zero sick persons:\n",
        "    self.totalSickStatus.append(0.0)\n",
        "\n",
        "    # Walk around\n",
        "    for p in self.world.population:\n",
        "      p.takeStep()\n",
        "    # Infect others\n",
        "    for p in self.world.population:\n",
        "      p.infect()\n",
        "    \n",
        "    # Check current situation\n",
        "    for p in self.world.population:\n",
        "      location = p.currentLocation()\n",
        "      # Is this person infected?\n",
        "      if p.infected:\n",
        "        # Add the location of this sick person to the list:        \n",
        "        sickX.append(location[0])\n",
        "        sickY.append(location[1])\n",
        "        # And increase the number of sick people:\n",
        "        self.totalSickStatus[-1] += 1.0\n",
        "      else:\n",
        "        # Add the location of this healthy person to the list:\n",
        "        healthyX.append(location[0])\n",
        "        healthyY.append(location[1])\n",
        "    \n",
        "    self.healthy.set_data(healthyX, healthyY)\n",
        "    self.sick.set_data(sickX, sickY)\n",
        "    # Scale the data by the size of the population :\n",
        "    self.totalSickStatus[-1] = self.totalSickStatus[-1] /len(world.population) * 100.0\n",
        "    self.totalSick.set_data(list(range(0,i+1)), self.totalSickStatus)\n",
        "    return (self.healthy, self.sick, self.totalSick)\n",
        "\n",
        "  def createFrame(self):\n",
        "    self.frame = animation.FuncAnimation(self.fig, self.animate, init_func=self.init,\n",
        "                               frames=self.timeStepsInTheAnimation, interval=100, blit=True)\n",
        " "
      ],
      "execution_count": 0,
      "outputs": []
    },
    {
      "cell_type": "markdown",
      "metadata": {
        "id": "VKNSi-J37Wr6",
        "colab_type": "text"
      },
      "source": [
        "## The animation\n",
        "It might take a while before the animation has been create, so please be patient. Change *to_jshtml* to *to_html5_video* to create a mpeg video. "
      ]
    },
    {
      "cell_type": "code",
      "metadata": {
        "id": "Wx-9KMymQSkP",
        "colab_type": "code",
        "colab": {}
      },
      "source": [
        "%%capture\n",
        "worldAnimation = Animation(world, timeStepsInTheAnimation)"
      ],
      "execution_count": 0,
      "outputs": []
    },
    {
      "cell_type": "code",
      "metadata": {
        "id": "OuXfQPKDm-4g",
        "colab_type": "code",
        "colab": {}
      },
      "source": [
        "world.create()\n",
        "worldAnimation.createFrame()\n",
        "HTML(worldAnimation.frame.to_jshtml())"
      ],
      "execution_count": 0,
      "outputs": []
    },
    {
      "cell_type": "markdown",
      "metadata": {
        "id": "MeoWQfG2660Q",
        "colab_type": "text"
      },
      "source": [
        "### Exercises\n",
        "\n",
        "\n",
        "1.   Will everybody get infected with the current settings? Change the  settings, for example, `numberOfPersons`, and see if you can prevent everybody  from getting infected in the end. \n",
        "2.   What is the shape of the graph usually? Is it mainly linear? Exponential? Or does it have the shape of an S-curve?\n",
        "3.   **Programming**: Draw the `infectionDistance` around every sick person.\n",
        "4.   **Programming**: _Social distancing_: make sure everybody stays out of each others way. You can do this for instance to make this person to take a step back when he/she is within twice the `infectionDistance`.\n",
        "5.   **Programming**: Give everybody  who is doing this _social distancing_ temporarily a different color. \n",
        "\n"
      ]
    },
    {
      "cell_type": "markdown",
      "metadata": {
        "id": "DJDLKOnjLWL-",
        "colab_type": "text"
      },
      "source": [
        "## Immunity\n",
        "People become cured after some time and therefore become immune for simulitis. This behavior is set in the method `becomesBetter`. We now also need to implement a `BetterWorld` and also the animation needs to adjusted."
      ]
    },
    {
      "cell_type": "code",
      "metadata": {
        "id": "bDMXCpYHCmMm",
        "colab_type": "code",
        "colab": {}
      },
      "source": [
        "%%capture\n",
        "class WithImmuneSystem(Person):\n",
        "  def __init__(self, age, world, startX, startY):\n",
        "    super().__init__(age, world, startX, startY)\n",
        "    self.immune = False\n",
        "    self.stepsTaken = 0\n",
        "  \n",
        "  def becomesBetter(self, numberOfSteps):\n",
        "    \"\"\" A person becomes better and therefore immune after some time. \"\"\"\n",
        "    if self.stepsTaken >= numberOfSteps and self.infected:\n",
        "      self.infected = False\n",
        "      self.immune = True\n",
        "\n",
        "  def infect(self):\n",
        "    \"\"\" \n",
        "    Check all people in the world: if I'm close enough and I'm infected\n",
        "    make that person sick. Returns the number of infected persons.\n",
        "    \"\"\"\n",
        "    infectedPersons= 0\n",
        "    if self.infected:\n",
        "      for p in self.world.population:\n",
        "        if not p.infected and not p.immune and math.sqrt((p.X-self.X)**2 + (p.Y-self.Y)**2) <= self.world.infectionDistance :\n",
        "          p.infected = True\n",
        "          infectedPersons += 1\n",
        "    return infectedPersons\n",
        "\n",
        "  def takeStep(self):\n",
        "    \"\"\" Now also keep track of the number of steps taken. \"\"\"\n",
        "    super().takeStep()\n",
        "    if self.infected:\n",
        "      self.stepsTaken += 1    \n",
        "\n",
        "\n",
        "class BetterWorld(World):\n",
        "  \"\"\" A BetterWorld consists of people who can get better and immune \"\"\"\n",
        "  def __init__(self, X, Y, numberOfPersons, infectionDistance):\n",
        "    super().__init__(X, Y, numberOfPersons, infectionDistance)\n",
        "\n",
        "  def create(self):\n",
        "    self.population = []\n",
        "    for i in range(self.numberOfPersons):\n",
        "      self.population.append(WithImmuneSystem(100*random.random(), self, self.X * random.random(),self.Y*random.random()))\n",
        "    self.population[0].infected = True\n",
        "\n",
        "class BetterAnimation(Animation):\n",
        "  def __init__(self, world, timeStepsInTheAnimation, numberOfSteps):\n",
        "    super().__init__(world, timeStepsInTheAnimation)\n",
        "    self.immune, = self.ax.plot([], [], \"go\", lw=2)\n",
        "    self.totalImmune, = self.ax2.plot([], [], \"go\", lw=2)\n",
        "    self.legend.remove()\n",
        "    self.legend = self.ax2.legend((self.healthy, self.sick, self.immune), \n",
        "                                  (\"Healthy\", \"Sick\", \"Better & immune\"),\n",
        "                                  loc=\"lower left\",bbox_to_anchor= (0.0, 1.01), borderaxespad=0., ncol=3)\n",
        "    self.totalImmuneStatus = []\n",
        "    self.numberOfSteps = numberOfSteps\n",
        "    \n",
        "\n",
        "  def init(self):\n",
        "    super().init()\n",
        "    self.immune.set_data([], [])\n",
        "    self.totalImmune.set_data([], [])\n",
        "    return (self.healthy,self.sick, self.immune, self.totalImmune)\n",
        "\n",
        "  def animate(self, i):\n",
        "    healthyX = []\n",
        "    healthyY = []\n",
        "    sickX = []\n",
        "    sickY = []\n",
        "    immuneX = []\n",
        "    immuneY = []\n",
        "    self.totalSickStatus.append(0.0)\n",
        "    self.totalImmuneStatus.append(0.0)\n",
        "    \n",
        "    for p in self.world.population:\n",
        "      p.takeStep()\n",
        "    for p in self.world.population:\n",
        "      p.infect()\n",
        "    for p in self.world.population:\n",
        "      p.becomesBetter(self.numberOfSteps)\n",
        "\n",
        "    \n",
        "    for p in self.world.population:\n",
        "      location = p.currentLocation()\n",
        "      if p.infected:        \n",
        "        sickX.append(location[0])\n",
        "        sickY.append(location[1])\n",
        "        self.totalSickStatus[-1] += 1.0\n",
        "      elif p.immune:\n",
        "        immuneX.append(location[0])\n",
        "        immuneY.append(location[1])\n",
        "        self.totalImmuneStatus[-1] += 1.0\n",
        "      else:\n",
        "        healthyX.append(location[0])\n",
        "        healthyY.append(location[1])\n",
        "\n",
        "    self.healthy.set_data(healthyX, healthyY)\n",
        "    self.sick.set_data(sickX, sickY)\n",
        "    self.totalSickStatus[-1] = self.totalSickStatus[-1] /len(world.population) * 100.0\n",
        "    self.totalSick.set_data(list(range(0,i+1)), self.totalSickStatus)    \n",
        "    self.totalImmuneStatus[-1] = self.totalImmuneStatus[-1] /len(world.population) * 100.0\n",
        "    self.totalImmune.set_data(list(range(0,i+1)), self.totalImmuneStatus)\n",
        "    self.immune.set_data(immuneX, immuneY)\n",
        "\n",
        "    return (self.healthy, self.sick, self.immune, self.totalSick, self.totalImmune)\n",
        "\n"
      ],
      "execution_count": 0,
      "outputs": []
    },
    {
      "cell_type": "markdown",
      "metadata": {
        "id": "Ty4tjfdD-5yJ",
        "colab_type": "text"
      },
      "source": [
        "Now we can create this `BetterWorld` and animate it. The variable `numberOfSteps` gives the number of steps a person has to take before getting better, and hence immune."
      ]
    },
    {
      "cell_type": "code",
      "metadata": {
        "id": "fy9zPbx1Fwwf",
        "colab_type": "code",
        "colab": {}
      },
      "source": [
        "%%capture\n",
        "numberOfSteps = 150\n",
        "BetterWorld = BetterWorld(worldSize,worldSize, numberOfPersons, infectionDistance)\n",
        "BetterAnimation = BetterAnimation(BetterWorld, timeStepsInTheAnimation, numberOfSteps) \n"
      ],
      "execution_count": 0,
      "outputs": []
    },
    {
      "cell_type": "code",
      "metadata": {
        "id": "U7wnDxUGF1ej",
        "colab_type": "code",
        "colab": {}
      },
      "source": [
        "BetterWorld.create()\n",
        "BetterAnimation.createFrame()\n",
        "HTML(BetterAnimation.frame.to_jshtml())"
      ],
      "execution_count": 0,
      "outputs": []
    },
    {
      "cell_type": "markdown",
      "metadata": {
        "id": "h-vF19R0_7LR",
        "colab_type": "text"
      },
      "source": [
        "### Exercises\n",
        "\n",
        "\n",
        "1.   Change the value for `numberOfSteps` before somebody gets better and see how it impacts the spread of simulitis. When are people getting better and immune before the virus can spread and when is everybody getting sick?\n",
        "2.   **Programming**: Change the simulation in such a way that a person only has a change of getting better after a `numberOfSteps`.\n",
        "3.   **Programming**: Change the simulation in such a way that a person has a change of getting better at each step but becomes better for sure after  `numberOfSteps`.\n",
        "\n"
      ]
    },
    {
      "cell_type": "markdown",
      "metadata": {
        "id": "2v0rSSOzxpm2",
        "colab_type": "text"
      },
      "source": [
        "## Death\n",
        "In the next simulation people might also die from the disease. With every step the chance of a sick person dying increases with age: the older a person is the higher the chance of dying. To make this happen we need to create new type of person, a new type of world and a different annimation."
      ]
    },
    {
      "cell_type": "code",
      "metadata": {
        "id": "mdpPc1MAyLxm",
        "colab_type": "code",
        "colab": {}
      },
      "source": [
        "class Human(WithImmuneSystem):\n",
        "  def __init__(self, age, world, startX, startY):\n",
        "    super().__init__(age, world, startX, startY)\n",
        "    self.alive = True\n",
        "\n",
        "  def takeStep(self):\n",
        "    \"\"\" Now also keep track of the number of steps taken. And possibly die \n",
        "    in the process \"\"\"\n",
        "    if self.alive:\n",
        "      super().takeStep()\n",
        "      if self.infected and self.stepsTaken % 50 == 0:\n",
        "        self.alive = (random.random() * 100.0) > self.age\n",
        "    if not self.alive:\n",
        "      self.infected = False\n",
        "\n",
        "class RealWorld(BetterWorld):\n",
        "  \"\"\" The RealWord consists of people who can die. \"\"\"\n",
        "  def __init__(self, X, Y, numberOfPersons, infectionDistance):\n",
        "    super().__init__(X, Y, numberOfPersons, infectionDistance)\n",
        "\n",
        "  def create(self):\n",
        "    self.population = []\n",
        "    for i in range(self.numberOfPersons):\n",
        "      self.population.append(Human(100*random.random(), self, self.X * random.random(),self.Y*random.random()))\n",
        "    self.population[0].infected = True\n",
        "\n",
        "class RealAnimation(BetterAnimation):\n",
        "  def __init__(self, world, timeStepsInTheAnimation, numberOfSteps):\n",
        "    super().__init__(world, timeStepsInTheAnimation, numberOfSteps)\n",
        "    self.dead, = self.ax.plot([], [], \"k+\", lw=2)\n",
        "    self.totalDeadStatus = []\n",
        "    self.averageAgeStatus = []\n",
        "    self.totalDead, = self.ax2.plot([], [], \"k+\", lw=2)\n",
        "    self.averageAge, = self.ax2.plot([], [], \"b-\", lw=2)\n",
        "    self.legend.remove()\n",
        "    self.legend = self.ax2.legend((self.healthy, self.sick, self.immune, self.totalDead, self.averageAge), \n",
        "                                  (\"Healthy\", \"Sick\", \"Better & immune\", \"Dead\", \"Average age\"), \n",
        "                                  loc=\"lower left\",bbox_to_anchor= (0.0, 1.01), borderaxespad=0., ncol=5)\n",
        "\n",
        "\n",
        "  def init(self):\n",
        "    super().init()\n",
        "    self.dead.set_data([], [])\n",
        "    self.totalDead.set_data([],[])\n",
        "    self.averageAge.set_data([],[])\n",
        "    return (self.healthy,self.sick, self.immune, self.dead, self.totalSick, self.totalImmune, self.totalDead, self.averageAge)\n",
        "\n",
        "  def animate(self, i):\n",
        "    healthyX = []\n",
        "    healthyY = []\n",
        "    sickX = []\n",
        "    sickY = []\n",
        "    immuneX = []\n",
        "    immuneY = []\n",
        "    deadX = []\n",
        "    deadY = []\n",
        "\n",
        "    self.totalSickStatus.append(0.0)\n",
        "    self.totalImmuneStatus.append(0.0)\n",
        "    self.totalDeadStatus.append(0.0)\n",
        "    self.averageAgeStatus.append(0.0)\n",
        "\n",
        "    \n",
        "    for p in self.world.population:\n",
        "      p.takeStep()\n",
        "    for p in self.world.population:\n",
        "      p.infect()\n",
        "    for p in self.world.population:\n",
        "      p.becomesBetter(self.numberOfSteps)\n",
        "\n",
        "    \n",
        "    for p in self.world.population:\n",
        "      location = p.currentLocation()\n",
        "      if not p.alive:\n",
        "        deadX.append(location[0])\n",
        "        deadY.append(location[1])\n",
        "        self.totalDeadStatus[-1] += 1.0\n",
        "      elif p.infected:        \n",
        "        sickX.append(location[0])\n",
        "        sickY.append(location[1])\n",
        "        self.totalSickStatus[-1] += 1.0\n",
        "      elif p.immune:\n",
        "        immuneX.append(location[0])\n",
        "        immuneY.append(location[1])\n",
        "        self.totalImmuneStatus[-1] += 1.0\n",
        "      else:\n",
        "        healthyX.append(location[0])\n",
        "        healthyY.append(location[1])\n",
        "      if p.alive:\n",
        "        self.averageAgeStatus[-1] += p.age\n",
        "\n",
        "    self.healthy.set_data(healthyX, healthyY)\n",
        "    self.sick.set_data(sickX, sickY)\n",
        "    self.immune.set_data(immuneX, immuneY)\n",
        "    self.dead.set_data(deadX, deadY)\n",
        "\n",
        "    self.totalSickStatus[-1] = self.totalSickStatus[-1] /len(world.population) * 100.0\n",
        "    self.totalSick.set_data(list(range(0,i+1)), self.totalSickStatus)    \n",
        "    self.totalImmuneStatus[-1] = self.totalImmuneStatus[-1] /len(world.population) * 100.0\n",
        "    self.totalImmune.set_data(list(range(0,i+1)), self.totalImmuneStatus)\n",
        "\n",
        "    self.averageAgeStatus[-1] = self.averageAgeStatus[-1] /(len(world.population)-self.totalDeadStatus[-1])\n",
        "    self.averageAge.set_data(list(range(0,i+1)), self.averageAgeStatus)\n",
        "    self.totalDeadStatus[-1] = self.totalDeadStatus[-1] /len(world.population) * 100.0\n",
        "    self.totalDead.set_data(list(range(0,i+1)), self.totalDeadStatus)    \n",
        "\n",
        "    return (self.healthy, self.sick, self.immune, self.totalSick, self.totalImmune, self.dead, self.totalDead, self.averageAge)"
      ],
      "execution_count": 0,
      "outputs": []
    },
    {
      "cell_type": "markdown",
      "metadata": {
        "id": "ZHbS7kb-Cp17",
        "colab_type": "text"
      },
      "source": [
        "Below this `RealWorld` is created and filled with `Human`s. After that you can start the animation."
      ]
    },
    {
      "cell_type": "code",
      "metadata": {
        "id": "xDf7N0Lc0NA2",
        "colab_type": "code",
        "colab": {}
      },
      "source": [
        "%%capture\n",
        "RealWorld = RealWorld(worldSize,worldSize, numberOfPersons, infectionDistance)\n",
        "realAnimation = RealAnimation(RealWorld, timeStepsInTheAnimation, numberOfSteps)"
      ],
      "execution_count": 0,
      "outputs": []
    },
    {
      "cell_type": "code",
      "metadata": {
        "id": "GqPQD5CF0z4C",
        "colab_type": "code",
        "colab": {}
      },
      "source": [
        "RealWorld.create()\n",
        "realAnimation.createFrame()\n",
        "HTML(realAnimation.frame.to_jshtml())"
      ],
      "execution_count": 0,
      "outputs": []
    },
    {
      "cell_type": "markdown",
      "metadata": {
        "id": "ag0DKPb1DoxE",
        "colab_type": "text"
      },
      "source": [
        "### Exercises\n",
        "\n",
        "1.   According to this code, when does a person die? \n",
        "2.   The basic settings in this notebook a quite harsh for the populations. Which percentage of people has died at the end of the simulation?\n",
        "3.   Enlarge the the world somewhat without adding more people to it. How this affect somebody's chance of survival?\n",
        "4.   **Programming**: make the chances of dying variable. \n",
        "5.   **Programming**: change the simulation in such a way that young people have a higher chance of dying. You should be able to see that in the line for the average age.\n",
        "6.   **Programming**: make sick people walk slowly. How does this affect the spread? \n",
        "7.   **Programming**: Add _social distancing_ (see previous exercise) and see how it affects the spread of the virus.\n",
        "\n"
      ]
    }
  ]
}