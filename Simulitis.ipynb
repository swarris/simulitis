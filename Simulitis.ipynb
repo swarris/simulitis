{
  "nbformat": 4,
  "nbformat_minor": 0,
  "metadata": {
    "colab": {
      "name": "Simulitis.ipynb",
      "provenance": [],
      "collapsed_sections": [],
      "authorship_tag": "ABX9TyPqrZktHk7ua6JSuOmIb2Mj",
      "include_colab_link": true
    },
    "kernelspec": {
      "name": "python3",
      "display_name": "Python 3"
    }
  },
  "cells": [
    {
      "cell_type": "markdown",
      "metadata": {
        "id": "view-in-github",
        "colab_type": "text"
      },
      "source": [
        "<a href=\"https://colab.research.google.com/github/swarris/simulitis/blob/master/Simulitis.ipynb\" target=\"_parent\"><img src=\"https://colab.research.google.com/assets/colab-badge.svg\" alt=\"Open In Colab\"/></a>"
      ]
    },
    {
      "cell_type": "markdown",
      "metadata": {
        "id": "K4O6On5HmjrK",
        "colab_type": "text"
      },
      "source": [
        "# Simulitis verspreiding\n",
        "In dit project gaan we de verspreiding van een denkbeeldig virus simuleren. Dit virus, *simulitis* is overdraagbaar van mens tot mens en kan dodelijk zijn. De mate waarin het virus overdraagbaar is en hoe dodelijk het is kan per simulatie aangepast worden. Deze simulatie is geschreven in de programmeertaal Python. Deze simulaties zijn **illustratief** en om **programmeren in Python te leren**. De rekenmodelen zijn **niet wetenschappelijk**! \n",
        "## Laten we een wereld maken\n",
        "Onze wereld is vierkant en is *X* lang en *Y* breed. Met de infectie afstand kunnen aangeven hoe dicht iemand op een besmet persoon moet staan om ook ziek te worden."
      ]
    },
    {
      "cell_type": "code",
      "metadata": {
        "id": "ojCBp5eVmmqG",
        "colab_type": "code",
        "colab": {}
      },
      "source": [
        "class Wereld:\n",
        "\n",
        "  def __init__(self, X, Y, aantalPersonen, infectieAfstand):\n",
        "    self.X = X\n",
        "    self.Y = Y\n",
        "    self.aantalPersonen = aantalPersonen\n",
        "    self.infectieAfstand = infectieAfstand\n",
        "    self.populatie = []\n",
        "\n",
        "  def maak(self):\n",
        "    \"\"\" \n",
        "    Deze methode maakt een populatie aan met #aantalPersonen en start met\n",
        "    1 ziek persoon.\n",
        "    \"\"\"\n",
        "    self.populatie = []\n",
        "    for i in range(self.aantalPersonen):\n",
        "      self.populatie.append(Persoon(100*random.random(), self, self.X * random.random(),self.Y*random.random()))\n",
        "    # maak er 1 ziek\n",
        "    self.populatie[0].geinfecteerd = True\n"
      ],
      "execution_count": 0,
      "outputs": []
    },
    {
      "cell_type": "markdown",
      "metadata": {
        "id": "GBduh2xGm0GW",
        "colab_type": "text"
      },
      "source": [
        "## Nu moeten we een Persoon definieren\n",
        "Een persoon heeft een leeftijd en startlocatie in de wereld. Ook kan de persoon door de wereld lopen."
      ]
    },
    {
      "cell_type": "code",
      "metadata": {
        "id": "aGHag4UFmvFd",
        "colab_type": "code",
        "colab": {}
      },
      "source": [
        "import math\n",
        "import random\n",
        "\n",
        "class Persoon:\n",
        "  def __init__(self, leeftijd, wereld, startX, startY):  \n",
        "    \"\"\"\n",
        "    Een persoon heeft een leeftijd, een wereld om in te leven en\n",
        "    een start positie in deze wereld. Hij/zij beweegt in een willekeurige \n",
        "    richting. Een persoon is niet geinfecteerd als hij aangemaakt wordt.\n",
        "    \"\"\"\n",
        "    self.leeftijd = leeftijd\n",
        "    self.wereld = wereld\n",
        "    self.X = startX\n",
        "    self.Y = startY\n",
        "    self.looprichting = random.random()*math.pi*2.0\n",
        "    self.geinfecteerd = False\n",
        "\n",
        "    \n",
        "  def neemStap(self):\n",
        "    \"\"\"\n",
        "    Deze methode zorgt er voor de persoon een stap maakt in de wereld.\n",
        "    \"\"\"\n",
        "\n",
        "    # verander van richting?\n",
        "    if random.random() > 0.95:\n",
        "      self.looprichting = random.random()*math.pi*2.0\n",
        "    # neem een stap\n",
        "    self.X = self.X + math.cos(self.looprichting)\n",
        "    self.Y = self.Y + math.sin(self.looprichting)\n",
        "    # je mag niet de wereld uit lopen:\n",
        "    if self.X > self.wereld.X:\n",
        "      self.X = 0\n",
        "    elif self.X < 0:\n",
        "      self.X = self.wereld.X\n",
        "    if self.Y > self.wereld.Y:\n",
        "      self.Y = 0\n",
        "    elif self.Y < 0:\n",
        "      self.Y = self.wereld.Y\n",
        "\n",
        "        \n",
        "  def huidigeLocatie(self):\n",
        "    \"\"\" Waar ben ik nu? \"\"\"\n",
        "    return [self.X, self.Y]\n",
        "\n",
        "  def infecteer(self):\n",
        "    \"\"\" \n",
        "    Doorloop alle mensen in de wereld: ben je dichtbij genoeg, \n",
        "    dan kan ik je ziek maken (als ik zelf ziek ben). Geeft het aantal \n",
        "    besmette mensen terug.\n",
        "    \"\"\"\n",
        "    geinfecteerden = 0\n",
        "    if self.geinfecteerd:\n",
        "      for p in self.wereld.populatie:\n",
        "        if not p.geinfecteerd and math.sqrt((p.X-self.X)**2 + (p.Y-self.Y)**2) <= self.wereld.infectieAfstand :\n",
        "          p.geinfecteerd = True\n",
        "          geinfecteerden += 1\n",
        "    return geinfecteerden\n"
      ],
      "execution_count": 0,
      "outputs": []
    },
    {
      "cell_type": "markdown",
      "metadata": {
        "id": "Jbtm04Mv5Wt3",
        "colab_type": "text"
      },
      "source": [
        "## De mensen op de wereld\n",
        "Nu we een wereld en personen kunnen maken, gaan we die samenvoegen. Met de volgende variabelen kun je aangeven hoe groot de wereld moet worden en hoeveel mensen er rondlopen. Even een tip: hoe groter de wereld en/of hoe meer mensen hoe langer het duurt voordat straks de simulatie klaar is."
      ]
    },
    {
      "cell_type": "code",
      "metadata": {
        "id": "GRWn7gC46FSW",
        "colab_type": "code",
        "colab": {}
      },
      "source": [
        "wereldGrootte = 200\n",
        "aantalPersonen = 200\n",
        "infectieAfstand = 3.0\n",
        "tijdstappenInDeAnimatie = 500"
      ],
      "execution_count": 0,
      "outputs": []
    },
    {
      "cell_type": "markdown",
      "metadata": {
        "id": "ltXM1Jfe6NxV",
        "colab_type": "text"
      },
      "source": [
        "Nu kunnen we de wereld gaan aanmaken. We starten met 1 ziek persooon."
      ]
    },
    {
      "cell_type": "code",
      "metadata": {
        "id": "yOfo31G9m3Q3",
        "colab_type": "code",
        "colab": {}
      },
      "source": [
        "wereld = Wereld(wereldGrootte,wereldGrootte, aantalPersonen, infectieAfstand)\n"
      ],
      "execution_count": 0,
      "outputs": []
    },
    {
      "cell_type": "markdown",
      "metadata": {
        "id": "yhGxmuHz7K02",
        "colab_type": "text"
      },
      "source": [
        "Het volgende stuk code is nodig om de aninamatie te maken. De personen lopen door de wereld en kunnen mensen ziek maken."
      ]
    },
    {
      "cell_type": "code",
      "metadata": {
        "id": "o-z2tM1am7D5",
        "colab_type": "code",
        "colab": {}
      },
      "source": [
        "%%capture\n",
        "import numpy as np\n",
        "import matplotlib.pyplot as plt\n",
        "from matplotlib import animation, rc\n",
        "from IPython.display import HTML\n",
        "\n",
        "class Animatie:\n",
        "  def __init__(self, wereld, tijdstappenInDeAnimatie):\n",
        "    \"\"\"\n",
        "    Definitie van het plot venster.\n",
        "    \"\"\"\n",
        "    self.wereld = wereld\n",
        "    self.tijdstappenInDeAnimatie = tijdstappenInDeAnimatie\n",
        "    self.fig, (self.ax, self.ax2) = plt.subplots(2,1,figsize=(8,12))\n",
        "    self.ax.set_xlim(( 0, wereld.X))\n",
        "    self.ax.set_ylim((0, wereld.Y))\n",
        "\n",
        "\n",
        "    self.ax2.set_xlim(( 0, tijdstappenInDeAnimatie))\n",
        "    self.ax2.set_ylim((0, 100))\n",
        "\n",
        "\n",
        "\n",
        "    # We houden zieken en gezonden bij\n",
        "    self.gezond, = self.ax.plot([], [], \"bo\", lw=2)\n",
        "    self.ziek, = self.ax.plot([], [], \"ro\", lw=2)\n",
        "    self.totaalZiek, = self.ax2.plot([], [], \"ro\", lw=2)\n",
        "    self.legend = self.ax2.legend((self.gezond, self.ziek), \n",
        "                                  (\"Gezond\", \"Ziek\"), \n",
        "                                   loc=\"lower left\",bbox_to_anchor= (0.0, 1.01), borderaxespad=0., ncol=2)\n",
        "    self.totaalZiekStatus = []\n",
        "\n",
        "  def init(self):\n",
        "    \"\"\" Leegmaken van de data voor de grafiek \"\"\"\n",
        "    self.gezond.set_data([], [])\n",
        "    self.ziek.set_data([], [])\n",
        "    self.totaalZiek.set_data([],[])\n",
        "    return (self.gezond,self.ziek, self.totaalZiek)\n",
        "\n",
        "  def animeer(self, i):\n",
        "    \"\"\" \n",
        "    Maken van de animatie. Laat de personen in de wereld rondlopen en\n",
        "    elkaar infecteren. \n",
        "    \"\"\"\n",
        "    gezondX = []\n",
        "    gezondY = []\n",
        "    ziekX = []\n",
        "    ziekY = []\n",
        "    self.totaalZiekStatus.append(0.0)\n",
        "\n",
        "    # Loop\n",
        "    for p in self.wereld.populatie:\n",
        "      p.neemStap()\n",
        "    # Maak ziek\n",
        "    for p in self.wereld.populatie:\n",
        "      p.infecteer()\n",
        "    \n",
        "    # Bekijk huidige situatie\n",
        "    for p in self.wereld.populatie:\n",
        "      locatie = p.huidigeLocatie()\n",
        "      if p.geinfecteerd:        \n",
        "        ziekX.append(locatie[0])\n",
        "        ziekY.append(locatie[1])\n",
        "        self.totaalZiekStatus[-1] += 1.0\n",
        "      else:\n",
        "        gezondX.append(locatie[0])\n",
        "        gezondY.append(locatie[1])\n",
        "    \n",
        "    self.gezond.set_data(gezondX, gezondY)\n",
        "    self.ziek.set_data(ziekX, ziekY)\n",
        "    self.totaalZiekStatus[-1] = self.totaalZiekStatus[-1] /len(wereld.populatie) * 100.0\n",
        "    self.totaalZiek.set_data(list(range(0,i+1)), self.totaalZiekStatus)\n",
        "    return (self.gezond, self.ziek, self.totaalZiek)\n",
        "\n",
        "  def maakVenster(self):\n",
        "    \"\"\" Initialisatie van het animeer functie \"\"\"\n",
        "    self.venster = animation.FuncAnimation(self.fig, self.animeer, init_func=self.init,\n",
        "                               frames=self.tijdstappenInDeAnimatie, interval=1, blit=True)\n",
        " "
      ],
      "execution_count": 0,
      "outputs": []
    },
    {
      "cell_type": "markdown",
      "metadata": {
        "id": "VKNSi-J37Wr6",
        "colab_type": "text"
      },
      "source": [
        "## De animatie\n",
        "Het kan even duren voordat de animatie klaar is: het hangt af van hoe groot de wereld is, hoeveel mensen er rond lopen en hoeveel frames er gemaakt moeten worden.\n",
        "Verander *to_jshtml* in *to_html5_video* om er een video van te maken. "
      ]
    },
    {
      "cell_type": "code",
      "metadata": {
        "id": "Wx-9KMymQSkP",
        "colab_type": "code",
        "colab": {}
      },
      "source": [
        "%%capture\n",
        "animatie = Animatie(wereld, tijdstappenInDeAnimatie)"
      ],
      "execution_count": 0,
      "outputs": []
    },
    {
      "cell_type": "code",
      "metadata": {
        "id": "OuXfQPKDm-4g",
        "colab_type": "code",
        "colab": {}
      },
      "source": [
        "wereld.maak()\n",
        "animatie.maakVenster()\n",
        "HTML(animatie.venster.to_jshtml())"
      ],
      "execution_count": 0,
      "outputs": []
    },
    {
      "cell_type": "code",
      "metadata": {
        "id": "ImYshujRpWZS",
        "colab_type": "code",
        "colab": {}
      },
      "source": [
        "wereld.maak()\n",
        "animatie.maakVenster()\n",
        "HTML(animatie.venster.to_html5_video())"
      ],
      "execution_count": 0,
      "outputs": []
    },
    {
      "cell_type": "markdown",
      "metadata": {
        "id": "DJDLKOnjLWL-",
        "colab_type": "text"
      },
      "source": [
        "## Immuniteit\n",
        "Mensen worden na verloop van tijd immuum."
      ]
    },
    {
      "cell_type": "code",
      "metadata": {
        "id": "bDMXCpYHCmMm",
        "colab_type": "code",
        "colab": {}
      },
      "source": [
        "%%capture\n",
        "class MetAfweer(Persoon):\n",
        "  def __init__(self, X, Y, aantalPersonen, infectieAfstand):\n",
        "    super().__init__(X, Y, aantalPersonen, infectieAfstand)\n",
        "    self.immuum = False\n",
        "    self.gemaaktePassen = 0\n",
        "  \n",
        "  def wordtBeter(self, aantalPassen):\n",
        "    \"\"\" Een persoon wordt beter en daarmee immuum na verloop van tijd. \"\"\"\n",
        "    if self.gemaaktePassen >= aantalPassen and self.geinfecteerd:\n",
        "      self.geinfecteerd = False\n",
        "      self.immuum = True\n",
        "\n",
        "  def infecteer(self):\n",
        "    \"\"\" \n",
        "    Doorloop alle mensen in de wereld: ben je dichtbij genoeg, \n",
        "    dan kan ik je ziek maken (als ik zelf ziek ben). Geeft het aantal \n",
        "    besmette mensen terug.\n",
        "    \"\"\"\n",
        "    geinfecteerden = 0\n",
        "    if self.geinfecteerd:\n",
        "      for p in self.wereld.populatie:\n",
        "        if not p.geinfecteerd and not p.immuum and math.sqrt((p.X-self.X)**2 + (p.Y-self.Y)**2) <= self.wereld.infectieAfstand :\n",
        "          p.geinfecteerd = True\n",
        "          geinfecteerden += 1\n",
        "    return geinfecteerden\n",
        "\n",
        "  def neemStap(self):\n",
        "    \"\"\" Hou nu ook bij hoeveel stappen er gezet zijn. \"\"\"\n",
        "    super().neemStap()\n",
        "    if self.geinfecteerd:\n",
        "      self.gemaaktePassen += 1    \n",
        "\n",
        "\n",
        "class BetereWereld(Wereld):\n",
        "  \"\"\" De BetereWereld bestaat uit personen die beter en immuum kunnen worden \"\"\"\n",
        "  def __init__(self, X, Y, aantalPersonen, infectieAfstand):\n",
        "    super().__init__(X, Y, aantalPersonen, infectieAfstand)\n",
        "\n",
        "  def maak(self):\n",
        "    self.populatie = []\n",
        "    for i in range(self.aantalPersonen):\n",
        "      self.populatie.append(MetAfweer(100*random.random(), self, self.X * random.random(),self.Y*random.random()))\n",
        "    self.populatie[0].geinfecteerd = True\n",
        "\n",
        "class BetereAnimatie(Animatie):\n",
        "  def __init__(self, wereld, tijdstappenInDeAnimatie, aantalPassen):\n",
        "    super().__init__(wereld, tijdstappenInDeAnimatie)\n",
        "    self.immuum, = self.ax.plot([], [], \"go\", lw=2)\n",
        "    self.totaalImmuum, = self.ax2.plot([], [], \"go\", lw=2)\n",
        "    self.legend.remove()\n",
        "    self.legend = self.ax2.legend((self.gezond, self.ziek, self.immuum), \n",
        "                                  (\"Gezond\", \"Ziek\", \"Beter & immuum\"),\n",
        "                                  loc=\"lower left\",bbox_to_anchor= (0.0, 1.01), borderaxespad=0., ncol=3)\n",
        "    self.totaalImmuumStatus = []\n",
        "    self.aantalPassen = aantalPassen\n",
        "    \n",
        "\n",
        "  def init(self):\n",
        "    super().init()\n",
        "    self.immuum.set_data([], [])\n",
        "    self.totaalImmuum.set_data([], [])\n",
        "    return (self.gezond,self.ziek, self.immuum, self.totaalImmuum)\n",
        "\n",
        "  def animeer(self, i):\n",
        "    gezondX = []\n",
        "    gezondY = []\n",
        "    ziekX = []\n",
        "    ziekY = []\n",
        "    immuumX = []\n",
        "    immuumY = []\n",
        "    self.totaalZiekStatus.append(0.0)\n",
        "    self.totaalImmuumStatus.append(0.0)\n",
        "    \n",
        "    for p in self.wereld.populatie:\n",
        "      p.neemStap()\n",
        "    for p in self.wereld.populatie:\n",
        "      p.infecteer()\n",
        "    for p in self.wereld.populatie:\n",
        "      p.wordtBeter(self.aantalPassen)\n",
        "\n",
        "    \n",
        "    for p in self.wereld.populatie:\n",
        "      locatie = p.huidigeLocatie()\n",
        "      if p.geinfecteerd:        \n",
        "        ziekX.append(locatie[0])\n",
        "        ziekY.append(locatie[1])\n",
        "        self.totaalZiekStatus[-1] += 1.0\n",
        "      elif p.immuum:\n",
        "        immuumX.append(locatie[0])\n",
        "        immuumY.append(locatie[1])\n",
        "        self.totaalImmuumStatus[-1] += 1.0\n",
        "      else:\n",
        "        gezondX.append(locatie[0])\n",
        "        gezondY.append(locatie[1])\n",
        "\n",
        "    self.gezond.set_data(gezondX, gezondY)\n",
        "    self.ziek.set_data(ziekX, ziekY)\n",
        "    self.totaalZiekStatus[-1] = self.totaalZiekStatus[-1] /len(wereld.populatie) * 100.0\n",
        "    self.totaalZiek.set_data(list(range(0,i+1)), self.totaalZiekStatus)    \n",
        "    self.totaalImmuumStatus[-1] = self.totaalImmuumStatus[-1] /len(wereld.populatie) * 100.0\n",
        "    self.totaalImmuum.set_data(list(range(0,i+1)), self.totaalImmuumStatus)\n",
        "    self.immuum.set_data(immuumX, immuumY)\n",
        "\n",
        "    return (self.gezond, self.ziek, self.immuum, self.totaalZiek, self.totaalImmuum)\n",
        "\n"
      ],
      "execution_count": 0,
      "outputs": []
    },
    {
      "cell_type": "code",
      "metadata": {
        "id": "fy9zPbx1Fwwf",
        "colab_type": "code",
        "colab": {}
      },
      "source": [
        "%%capture\n",
        "aantalPassen = 150\n",
        "betereWereld = BetereWereld(wereldGrootte,wereldGrootte, aantalPersonen, infectieAfstand)\n",
        "betereAnimatie = BetereAnimatie(betereWereld, tijdstappenInDeAnimatie, aantalPassen) \n"
      ],
      "execution_count": 0,
      "outputs": []
    },
    {
      "cell_type": "code",
      "metadata": {
        "id": "U7wnDxUGF1ej",
        "colab_type": "code",
        "colab": {}
      },
      "source": [
        "betereWereld.maak()\n",
        "betereAnimatie.maakVenster()\n",
        "HTML(betereAnimatie.venster.to_jshtml())"
      ],
      "execution_count": 0,
      "outputs": []
    },
    {
      "cell_type": "markdown",
      "metadata": {
        "id": "2v0rSSOzxpm2",
        "colab_type": "text"
      },
      "source": [
        "## Overlijden\n",
        "In de volgende simulatie nemen we ook mee dat mensen kunnen komen te overlijden. Bij elke stap is de kans dat iemand komt te overlijden evenredig met zijn leeftijd: hoe ouder, hoe groter de kans."
      ]
    },
    {
      "cell_type": "code",
      "metadata": {
        "id": "mdpPc1MAyLxm",
        "colab_type": "code",
        "colab": {}
      },
      "source": [
        "class Mens(MetAfweer):\n",
        "  def __init__(self, X, Y, aantalPersonen, infectieAfstand):\n",
        "    super().__init__(X, Y, aantalPersonen, infectieAfstand)\n",
        "    self.levend = True\n",
        "\n",
        "  def neemStap(self):\n",
        "    \"\"\" Hou nu ook bij hoeveel stappen er gezet zijn. \"\"\"\n",
        "    if self.levend:\n",
        "      super().neemStap()\n",
        "      if self.geinfecteerd and self.gemaaktePassen % 50 == 0:\n",
        "        self.levend = (random.random() * 100.0) > self.leeftijd\n",
        "    if not self.levend:\n",
        "      self.geinfecteerd = False\n",
        "\n",
        "class EchteWereld(BetereWereld):\n",
        "  \"\"\" De EchteWereld bestaat uit personen die ook kunnen sterven \"\"\"\n",
        "  def __init__(self, X, Y, aantalPersonen, infectieAfstand):\n",
        "    super().__init__(X, Y, aantalPersonen, infectieAfstand)\n",
        "\n",
        "  def maak(self):\n",
        "    self.populatie = []\n",
        "    for i in range(self.aantalPersonen):\n",
        "      self.populatie.append(Mens(100*random.random(), self, self.X * random.random(),self.Y*random.random()))\n",
        "    self.populatie[0].geinfecteerd = True\n",
        "\n",
        "class EchteAnimatie(BetereAnimatie):\n",
        "  def __init__(self, wereld, tijdstappenInDeAnimatie, aantalPassen):\n",
        "    super().__init__(wereld, tijdstappenInDeAnimatie, aantalPassen)\n",
        "    self.dood, = self.ax.plot([], [], \"k+\", lw=2)\n",
        "    self.totaalDoodStatus = []\n",
        "    self.gemiddeldeLeeftijdStatus = []\n",
        "    self.totaalDood, = self.ax2.plot([], [], \"k+\", lw=2)\n",
        "    self.gemiddeldeLeeftijd, = self.ax2.plot([], [], \"b-\", lw=2)\n",
        "    self.legend.remove()\n",
        "    self.legend = self.ax2.legend((self.gezond, self.ziek, self.immuum, self.totaalDood, self.gemiddeldeLeeftijd), \n",
        "                                  (\"Gezond\", \"Ziek\", \"Beter & immuum\", \"Dood\", \"Gemiddelde leeftijd\"), \n",
        "                                  loc=\"lower left\",bbox_to_anchor= (0.0, 1.01), borderaxespad=0., ncol=5)\n",
        "\n",
        "\n",
        "  def init(self):\n",
        "    super().init()\n",
        "    self.dood.set_data([], [])\n",
        "    self.totaalDood.set_data([],[])\n",
        "    self.gemiddeldeLeeftijd.set_data([],[])\n",
        "    return (self.gezond,self.ziek, self.immuum, self.dood, self.totaalZiek, self.totaalImmuum, self.totaalDood, self.gemiddeldeLeeftijd)\n",
        "\n",
        "  def animeer(self, i):\n",
        "    gezondX = []\n",
        "    gezondY = []\n",
        "    ziekX = []\n",
        "    ziekY = []\n",
        "    immuumX = []\n",
        "    immuumY = []\n",
        "    doodX = []\n",
        "    doodY = []\n",
        "\n",
        "    self.totaalZiekStatus.append(0.0)\n",
        "    self.totaalImmuumStatus.append(0.0)\n",
        "    self.totaalDoodStatus.append(0.0)\n",
        "    self.gemiddeldeLeeftijdStatus.append(0.0)\n",
        "\n",
        "    \n",
        "    for p in self.wereld.populatie:\n",
        "      p.neemStap()\n",
        "    for p in self.wereld.populatie:\n",
        "      p.infecteer()\n",
        "    for p in self.wereld.populatie:\n",
        "      p.wordtBeter(self.aantalPassen)\n",
        "\n",
        "    \n",
        "    for p in self.wereld.populatie:\n",
        "      locatie = p.huidigeLocatie()\n",
        "      if not p.levend:\n",
        "        doodX.append(locatie[0])\n",
        "        doodY.append(locatie[1])\n",
        "        self.totaalDoodStatus[-1] += 1.0\n",
        "      elif p.geinfecteerd:        \n",
        "        ziekX.append(locatie[0])\n",
        "        ziekY.append(locatie[1])\n",
        "        self.totaalZiekStatus[-1] += 1.0\n",
        "      elif p.immuum:\n",
        "        immuumX.append(locatie[0])\n",
        "        immuumY.append(locatie[1])\n",
        "        self.totaalImmuumStatus[-1] += 1.0\n",
        "      else:\n",
        "        gezondX.append(locatie[0])\n",
        "        gezondY.append(locatie[1])\n",
        "      if p.levend:\n",
        "        self.gemiddeldeLeeftijdStatus[-1] += p.leeftijd\n",
        "\n",
        "    self.gezond.set_data(gezondX, gezondY)\n",
        "    self.ziek.set_data(ziekX, ziekY)\n",
        "    self.immuum.set_data(immuumX, immuumY)\n",
        "    self.dood.set_data(doodX, doodY)\n",
        "\n",
        "    self.totaalZiekStatus[-1] = self.totaalZiekStatus[-1] /len(wereld.populatie) * 100.0\n",
        "    self.totaalZiek.set_data(list(range(0,i+1)), self.totaalZiekStatus)    \n",
        "    self.totaalImmuumStatus[-1] = self.totaalImmuumStatus[-1] /len(wereld.populatie) * 100.0\n",
        "    self.totaalImmuum.set_data(list(range(0,i+1)), self.totaalImmuumStatus)\n",
        "\n",
        "    self.gemiddeldeLeeftijdStatus[-1] = self.gemiddeldeLeeftijdStatus[-1] /(len(wereld.populatie)-self.totaalDoodStatus[-1])\n",
        "    self.gemiddeldeLeeftijd.set_data(list(range(0,i+1)), self.gemiddeldeLeeftijdStatus)\n",
        "    self.totaalDoodStatus[-1] = self.totaalDoodStatus[-1] /len(wereld.populatie) * 100.0\n",
        "    self.totaalDood.set_data(list(range(0,i+1)), self.totaalDoodStatus)    \n",
        "\n",
        "    return (self.gezond, self.ziek, self.immuum, self.totaalZiek, self.totaalImmuum, self.dood, self.totaalDood, self.gemiddeldeLeeftijd)"
      ],
      "execution_count": 0,
      "outputs": []
    },
    {
      "cell_type": "code",
      "metadata": {
        "id": "xDf7N0Lc0NA2",
        "colab_type": "code",
        "colab": {}
      },
      "source": [
        "%%capture\n",
        "echteWereld = EchteWereld(wereldGrootte,wereldGrootte, aantalPersonen, infectieAfstand)\n",
        "echteAnimatie = EchteAnimatie(echteWereld, tijdstappenInDeAnimatie, aantalPassen)"
      ],
      "execution_count": 0,
      "outputs": []
    },
    {
      "cell_type": "code",
      "metadata": {
        "id": "GqPQD5CF0z4C",
        "colab_type": "code",
        "colab": {}
      },
      "source": [
        "echteWereld.maak()\n",
        "echteAnimatie.maakVenster()\n",
        "HTML(echteAnimatie.venster.to_html5_video())"
      ],
      "execution_count": 0,
      "outputs": []
    }
  ]
}